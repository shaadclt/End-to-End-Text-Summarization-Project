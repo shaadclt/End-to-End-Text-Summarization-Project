{
  "nbformat": 4,
  "nbformat_minor": 0,
  "metadata": {
    "colab": {
      "provenance": []
    },
    "kernelspec": {
      "name": "python3",
      "display_name": "Python 3"
    },
    "language_info": {
      "name": "python"
    }
  },
  "cells": [
    {
      "cell_type": "code",
      "execution_count": 1,
      "metadata": {
        "id": "FdmeRLoqPIKg"
      },
      "outputs": [],
      "source": [
        "from box import ConfigBox"
      ]
    },
    {
      "cell_type": "code",
      "source": [
        "d2 = ConfigBox({\"key\": \"value\", \"key1\": \"value1\"})"
      ],
      "metadata": {
        "id": "wbnsksE6PORG"
      },
      "execution_count": 2,
      "outputs": []
    },
    {
      "cell_type": "code",
      "source": [
        "d2"
      ],
      "metadata": {
        "colab": {
          "base_uri": "https://localhost:8080/"
        },
        "id": "HDWCfN0RPVN8",
        "outputId": "6328f47e-56a2-4f8e-a4da-fbd5a107a999"
      },
      "execution_count": 3,
      "outputs": [
        {
          "output_type": "execute_result",
          "data": {
            "text/plain": [
              "ConfigBox({'key': 'value', 'key1': 'value1'})"
            ]
          },
          "metadata": {},
          "execution_count": 3
        }
      ]
    },
    {
      "cell_type": "code",
      "source": [
        "d2.key"
      ],
      "metadata": {
        "colab": {
          "base_uri": "https://localhost:8080/",
          "height": 35
        },
        "id": "3uiWzlbQPVtK",
        "outputId": "50fe75ea-f08f-420c-a70b-f239cc740e29"
      },
      "execution_count": 4,
      "outputs": [
        {
          "output_type": "execute_result",
          "data": {
            "text/plain": [
              "'value'"
            ],
            "application/vnd.google.colaboratory.intrinsic+json": {
              "type": "string"
            }
          },
          "metadata": {},
          "execution_count": 4
        }
      ]
    }
  ]
}