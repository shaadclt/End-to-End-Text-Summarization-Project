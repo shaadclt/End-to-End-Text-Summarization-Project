{
 "cells": [
  {
   "cell_type": "code",
   "execution_count": 1,
   "id": "b0788e73-cafe-4cbe-9c8f-871f48d5f7de",
   "metadata": {},
   "outputs": [],
   "source": [
    "import os"
   ]
  },
  {
   "cell_type": "code",
   "execution_count": 2,
   "id": "02eea169-e9fe-4093-b0ee-ec0907e5c762",
   "metadata": {},
   "outputs": [
    {
     "data": {
      "text/plain": [
       "'D:\\\\Data Science\\\\Projects\\\\End to End Project\\\\End-to-End-Text-Summarization-Project\\\\research'"
      ]
     },
     "execution_count": 2,
     "metadata": {},
     "output_type": "execute_result"
    }
   ],
   "source": [
    "%pwd"
   ]
  },
  {
   "cell_type": "code",
   "execution_count": 6,
   "id": "b5043b70-f87d-4d19-92ae-a54811d2488f",
   "metadata": {},
   "outputs": [],
   "source": [
    "os.chdir(\"../\")"
   ]
  },
  {
   "cell_type": "code",
   "execution_count": 7,
   "id": "9786bea1-56ff-4fcf-b07a-92d4d339e28d",
   "metadata": {},
   "outputs": [
    {
     "data": {
      "text/plain": [
       "'D:\\\\Data Science\\\\Projects\\\\End to End Project\\\\End-to-End-Text-Summarization-Project'"
      ]
     },
     "execution_count": 7,
     "metadata": {},
     "output_type": "execute_result"
    }
   ],
   "source": [
    "%pwd"
   ]
  },
  {
   "cell_type": "code",
   "execution_count": 10,
   "id": "0158bd99-97d7-4c72-b4fb-1e91400ac23c",
   "metadata": {},
   "outputs": [
    {
     "name": "stdout",
     "output_type": "stream",
     "text": [
      "D:\\Data Science\\Projects\\End to End Project\\End-to-End-Text-Summarization-Project\\src\n"
     ]
    }
   ],
   "source": [
    "%cd \"D:\\\\Data Science\\\\Projects\\\\End to End Project\\\\End-to-End-Text-Summarization-Project\\\\src\""
   ]
  },
  {
   "cell_type": "code",
   "execution_count": 8,
   "id": "bc664cdb-cc4b-4572-89c6-3041a3d82c41",
   "metadata": {},
   "outputs": [],
   "source": [
    "from dataclasses import dataclass\n",
    "from pathlib import Path\n",
    "\n",
    "@dataclass(frozen=True)\n",
    "class DataIngestionConfig:\n",
    "    root_dir: Path\n",
    "    source_URL: str\n",
    "    local_data_file: Path\n",
    "    unzip_dir: Path"
   ]
  },
  {
   "cell_type": "code",
   "execution_count": 12,
   "id": "cfd01a37-8990-4fd1-9ce6-489b53d550e7",
   "metadata": {},
   "outputs": [
    {
     "name": "stdout",
     "output_type": "stream",
     "text": [
      "Collecting python-box\n",
      "  Downloading python_box-7.3.2-cp312-cp312-win_amd64.whl.metadata (8.3 kB)\n",
      "Downloading python_box-7.3.2-cp312-cp312-win_amd64.whl (1.2 MB)\n",
      "   ---------------------------------------- 0.0/1.2 MB ? eta -:--:--\n",
      "   ---------------------------------------- 0.0/1.2 MB ? eta -:--:--\n",
      "   ---------------------------------------- 0.0/1.2 MB ? eta -:--:--\n",
      "   -------- ------------------------------- 0.3/1.2 MB ? eta -:--:--\n",
      "   -------- ------------------------------- 0.3/1.2 MB ? eta -:--:--\n",
      "   -------- ------------------------------- 0.3/1.2 MB ? eta -:--:--\n",
      "   -------- ------------------------------- 0.3/1.2 MB ? eta -:--:--\n",
      "   ----------------- ---------------------- 0.5/1.2 MB 294.2 kB/s eta 0:00:03\n",
      "   ----------------- ---------------------- 0.5/1.2 MB 294.2 kB/s eta 0:00:03\n",
      "   ------------------------- -------------- 0.8/1.2 MB 390.1 kB/s eta 0:00:02\n",
      "   ------------------------- -------------- 0.8/1.2 MB 390.1 kB/s eta 0:00:02\n",
      "   ---------------------------------- ----- 1.0/1.2 MB 433.8 kB/s eta 0:00:01\n",
      "   ---------------------------------------- 1.2/1.2 MB 463.7 kB/s eta 0:00:00\n",
      "Installing collected packages: python-box\n",
      "Successfully installed python-box-7.3.2\n"
     ]
    }
   ],
   "source": [
    "!pip install python-box"
   ]
  },
  {
   "cell_type": "code",
   "execution_count": 14,
   "id": "ad0b0477-be41-47d3-8845-75aec7f76244",
   "metadata": {},
   "outputs": [
    {
     "name": "stdout",
     "output_type": "stream",
     "text": [
      "Collecting ensure\n",
      "  Downloading ensure-1.0.4-py3-none-any.whl.metadata (10 kB)\n",
      "Requirement already satisfied: six>=1.11.0 in c:\\users\\shaad\\anaconda3\\lib\\site-packages (from ensure) (1.16.0)\n",
      "Downloading ensure-1.0.4-py3-none-any.whl (15 kB)\n",
      "Installing collected packages: ensure\n",
      "Successfully installed ensure-1.0.4\n"
     ]
    }
   ],
   "source": [
    "!pip install ensure"
   ]
  },
  {
   "cell_type": "code",
   "execution_count": 15,
   "id": "f1c97e81-8185-4ef8-9911-778351090a74",
   "metadata": {},
   "outputs": [],
   "source": [
    "from textSummarizer.constants import *\n",
    "from textSummarizer.utils.common import read_yaml, create_directories"
   ]
  },
  {
   "cell_type": "code",
   "execution_count": 16,
   "id": "ac8d26fd-03bb-40ec-9179-7ff67f2d241f",
   "metadata": {},
   "outputs": [],
   "source": [
    "class ConfigurationManager:\n",
    "    def __init__(\n",
    "        self,\n",
    "        config_filepath = CONFIG_FILE_PATH,\n",
    "        params_filepath = PARAMS_FILE_PATH):\n",
    "\n",
    "        self.config = read_yaml(config_filepath)\n",
    "        self.params = read_yaml(params_filepath)\n",
    "\n",
    "        create_directories([self.config.artifacts_root])\n",
    "\n",
    "    \n",
    "\n",
    "    def get_data_ingestion_config(self) -> DataIngestionConfig:\n",
    "        config = self.config.data_ingestion\n",
    "\n",
    "        create_directories([config.root_dir])\n",
    "\n",
    "        data_ingestion_config = DataIngestionConfig(\n",
    "            root_dir=config.root_dir,\n",
    "            source_URL=config.source_URL,\n",
    "            local_data_file=config.local_data_file,\n",
    "            unzip_dir=config.unzip_dir \n",
    "        )\n",
    "\n",
    "        return data_ingestion_config"
   ]
  },
  {
   "cell_type": "code",
   "execution_count": 17,
   "id": "101234e7-9d20-40cf-93f4-764cd324b3f8",
   "metadata": {},
   "outputs": [],
   "source": [
    "import os\n",
    "import urllib.request as request\n",
    "import zipfile\n",
    "from textSummarizer.logging import logger\n",
    "from textSummarizer.utils.common import get_size"
   ]
  },
  {
   "cell_type": "code",
   "execution_count": 18,
   "id": "9fbf352c-4219-484c-99e3-942c305a7ec5",
   "metadata": {},
   "outputs": [],
   "source": [
    "class DataIngestion:\n",
    "    def __init__(self, config: DataIngestionConfig):\n",
    "        self.config = config\n",
    "\n",
    "\n",
    "    \n",
    "    def download_file(self):\n",
    "        if not os.path.exists(self.config.local_data_file):\n",
    "            filename, headers = request.urlretrieve(\n",
    "                url = self.config.source_URL,\n",
    "                filename = self.config.local_data_file\n",
    "            )\n",
    "            logger.info(f\"{filename} download! with following info: \\n{headers}\")\n",
    "        else:\n",
    "            logger.info(f\"File already exists of size: {get_size(Path(self.config.local_data_file))}\")  \n",
    "\n",
    "        \n",
    "    \n",
    "    def extract_zip_file(self):\n",
    "        \"\"\"\n",
    "        zip_file_path: str\n",
    "        Extracts the zip file into the data directory\n",
    "        Function returns None\n",
    "        \"\"\"\n",
    "        unzip_path = self.config.unzip_dir\n",
    "        os.makedirs(unzip_path, exist_ok=True)\n",
    "        with zipfile.ZipFile(self.config.local_data_file, 'r') as zip_ref:\n",
    "            zip_ref.extractall(unzip_path)"
   ]
  },
  {
   "cell_type": "code",
   "execution_count": 20,
   "id": "ebe9f16a-9a1f-4378-bf20-419a39e6ed79",
   "metadata": {},
   "outputs": [
    {
     "name": "stdout",
     "output_type": "stream",
     "text": [
      "D:\\Data Science\\Projects\\End to End Project\\End-to-End-Text-Summarization-Project\n"
     ]
    }
   ],
   "source": [
    "%cd \"D:\\\\Data Science\\\\Projects\\\\End to End Project\\\\End-to-End-Text-Summarization-Project"
   ]
  },
  {
   "cell_type": "code",
   "execution_count": 21,
   "id": "ee6d6d64-c4f2-4294-aa94-4bcde8d86065",
   "metadata": {},
   "outputs": [
    {
     "name": "stdout",
     "output_type": "stream",
     "text": [
      "[2025-02-08 20:56:44,227: INFO: common: yaml file: config\\config.yaml loaded successfully]\n",
      "[2025-02-08 20:56:44,232: INFO: common: yaml file: params.yaml loaded successfully]\n",
      "[2025-02-08 20:56:44,235: INFO: common: created directory at: artifacts]\n",
      "[2025-02-08 20:56:44,257: INFO: common: created directory at: artifacts/data_ingestion]\n",
      "[2025-02-08 20:56:57,872: INFO: 1434958058: artifacts/data_ingestion/data.zip download! with following info: \n",
      "Connection: close\n",
      "Content-Length: 7903594\n",
      "Cache-Control: max-age=300\n",
      "Content-Security-Policy: default-src 'none'; style-src 'unsafe-inline'; sandbox\n",
      "Content-Type: application/zip\n",
      "ETag: \"dbc016a060da18070593b83afff580c9b300f0b6ea4147a7988433e04df246ca\"\n",
      "Strict-Transport-Security: max-age=31536000\n",
      "X-Content-Type-Options: nosniff\n",
      "X-Frame-Options: deny\n",
      "X-XSS-Protection: 1; mode=block\n",
      "X-GitHub-Request-Id: 3A09:2D9885:CC4BE:141A40:67A777B8\n",
      "Accept-Ranges: bytes\n",
      "Date: Sat, 08 Feb 2025 15:26:49 GMT\n",
      "Via: 1.1 varnish\n",
      "X-Served-By: cache-maa10250-MAA\n",
      "X-Cache: MISS\n",
      "X-Cache-Hits: 0\n",
      "X-Timer: S1739028409.650442,VS0,VE683\n",
      "Vary: Authorization,Accept-Encoding,Origin\n",
      "Access-Control-Allow-Origin: *\n",
      "Cross-Origin-Resource-Policy: cross-origin\n",
      "X-Fastly-Request-ID: 607446c291e68fd949323f102a94b0de5680ad51\n",
      "Expires: Sat, 08 Feb 2025 15:31:49 GMT\n",
      "Source-Age: 0\n",
      "\n",
      "]\n"
     ]
    }
   ],
   "source": [
    "try:\n",
    "    config = ConfigurationManager()\n",
    "    data_ingestion_config = config.get_data_ingestion_config()\n",
    "    data_ingestion = DataIngestion(config=data_ingestion_config)\n",
    "    data_ingestion.download_file()\n",
    "    data_ingestion.extract_zip_file()\n",
    "except Exception as e:\n",
    "    raise e"
   ]
  },
  {
   "cell_type": "code",
   "execution_count": null,
   "id": "28ced2b6-0c09-4d3a-bd74-84f71a997faf",
   "metadata": {},
   "outputs": [],
   "source": []
  }
 ],
 "metadata": {
  "kernelspec": {
   "display_name": "Python 3 (ipykernel)",
   "language": "python",
   "name": "python3"
  },
  "language_info": {
   "codemirror_mode": {
    "name": "ipython",
    "version": 3
   },
   "file_extension": ".py",
   "mimetype": "text/x-python",
   "name": "python",
   "nbconvert_exporter": "python",
   "pygments_lexer": "ipython3",
   "version": "3.12.7"
  }
 },
 "nbformat": 4,
 "nbformat_minor": 5
}
